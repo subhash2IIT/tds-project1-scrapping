{
  "nbformat": 4,
  "nbformat_minor": 0,
  "metadata": {
    "colab": {
      "provenance": []
    },
    "kernelspec": {
      "name": "python3",
      "display_name": "Python 3"
    },
    "language_info": {
      "name": "python"
    }
  },
  "cells": [
    {
      "cell_type": "code",
      "source": [
        "!pip install pyspark\n"
      ],
      "metadata": {
        "colab": {
          "base_uri": "https://localhost:8080/"
        },
        "id": "j4cqQoN1Eaeq",
        "outputId": "47502006-e406-4377-a7d6-0bf2e50c65a8"
      },
      "execution_count": null,
      "outputs": [
        {
          "output_type": "stream",
          "name": "stdout",
          "text": [
            "Requirement already satisfied: pyspark in /usr/local/lib/python3.10/dist-packages (3.5.3)\n",
            "Requirement already satisfied: py4j==0.10.9.7 in /usr/local/lib/python3.10/dist-packages (from pyspark) (0.10.9.7)\n"
          ]
        }
      ]
    },
    {
      "cell_type": "code",
      "source": [
        "from pyspark.sql import SparkSession\n",
        "\n",
        "# Initialize a Spark session\n",
        "spark = SparkSession.builder \\\n",
        "    .appName(\"Pandas to Spark DataFrame\") \\\n",
        "    .getOrCreate()"
      ],
      "metadata": {
        "id": "sxDavplVEZs7"
      },
      "execution_count": null,
      "outputs": []
    },
    {
      "cell_type": "code",
      "execution_count": null,
      "metadata": {
        "id": "Jc7M8o8qEIyx"
      },
      "outputs": [],
      "source": [
        "# Let's assume that the last word in a user's name is their surname (ignore missing names, trim and split by whitespace.) What's the most common surname? (If there's a tie, list them all, comma-separated, alphabetically)\n",
        "# Number of users with the most common surname\n",
        "import pandas as pd\n",
        "csv_file_path = '/content/drive/My Drive/repositories.csv'  # Specify the path in your Google Drive\n",
        "repositories_df = pd.read_csv(csv_file_path)  # Adjust path as necessary\n",
        "\n",
        "spark_df1 = spark.createDataFrame(repositories_df)\n",
        "spark_df1.createOrReplaceTempView(\"rv\")"
      ]
    },
    {
      "cell_type": "code",
      "source": [
        "csv_file_path1 = '/content/drive/MyDrive/usersff.csv'  # Specify the path in your Google Drive\n",
        "users_df = pd.read_csv(csv_file_path1)  # Adjust path as necessary\n",
        "dic_n={}\n",
        "for i in users_df['name']:\n",
        "  if(str(i).lower()=='nan'):\n",
        "    continue\n",
        "\n",
        "  keyname=(i.strip().split(\" \")[-1])\n",
        "  if(keyname not in dic_n):\n",
        "    dic_n[keyname]=1\n",
        "  else:\n",
        "    dic_n[keyname]+=1\n"
      ],
      "metadata": {
        "id": "M2UlXbrZEtAD"
      },
      "execution_count": null,
      "outputs": []
    },
    {
      "cell_type": "code",
      "source": [
        "# prompt: sort the dict by value desc\n",
        "\n",
        "sorted_dict = dict(sorted(dic_n.items(), key=lambda item: item[1], reverse=True))"
      ],
      "metadata": {
        "id": "nbcXHh_pHOUX"
      },
      "execution_count": null,
      "outputs": []
    },
    {
      "cell_type": "code",
      "source": [
        "# prompt: filter users_df dataframe with followers count> or ewault to 500 after converitfn datatyoe ti int\n",
        "\n",
        "users_df['followers_count'] = pd.to_numeric(users_df['followers'], errors='coerce').fillna(0).astype(int)\n",
        "filtered_users_df = users_df[users_df['followers_count'] >= 500]\n",
        "dic_n={}\n",
        "\n",
        "for i in filtered_users_df['name']:\n",
        "  if(str(i).lower()=='nan'):\n",
        "    continue\n",
        "\n",
        "  keyname=(i.strip().split(\" \")[-1])\n",
        "  if(keyname not in dic_n):\n",
        "    dic_n[keyname]=1\n",
        "  else:\n",
        "    dic_n[keyname]+=1"
      ],
      "metadata": {
        "id": "4-HjdoaGI2e7"
      },
      "execution_count": null,
      "outputs": []
    },
    {
      "cell_type": "code",
      "source": [
        "sorted_dict = dict(sorted(dic_n.items(), key=lambda item: item[1], reverse=True))\n",
        "print(sorted_dict)"
      ],
      "metadata": {
        "colab": {
          "base_uri": "https://localhost:8080/"
        },
        "id": "Q-9x-5_6I90s",
        "outputId": "79896a54-475e-48a9-9eb6-e3f81d370310"
      },
      "execution_count": null,
      "outputs": [
        {
          "output_type": "stream",
          "name": "stdout",
          "text": [
            "{'Zhang': 11, 'Wang': 8, 'Chen': 6, 'Yang': 4, 'Jiang': 4, 'Sun': 3, 'Huo': 2, 'Lei': 2, 'Team': 2, 'Liu': 2, 'Cheng': 2, 'Xinyu': 2, 'Hao': 2, 'Hong': 2, 'Pan': 2, 'Huang': 2, 'Xu': 2, 'Guo': 2, 'Jimmy': 2, 'Zhu': 2, 'Michael': 1, '代码家': 1, 'xiaolai': 1, 'Draven': 1, '张鸿洋': 1, '布客飞龙': 1, '狼叔': 1, '削微寒': 1, '纯洁的微笑': 1, 'Zhong': 1, 'singwhatiwanna': 1, 'Qiao': 1, 'Gao': 1, 'liuhuanyong': 1, '颜海镜': 1, 'July': 1, 'fengyun.rui': 1, 'Terry.Mao': 1, 'chyyuu': 1, 'Xargin': 1, 'Song': 1, 'Cui': 1, 'Dong': 1, 'Sheng': 1, 'wangfupeng': 1, '吕文翰': 1, '依云': 1, 'THUNLP': 1, 'Zheng': 1, '星一': 1, '技术胖': 1, 'duwen': 1, 'polarisxu': 1, '居戎氏': 1, 'hoshi-hiyouga': 1, 'Wen': 1, '易枭寒': 1, 'Baidu': 1, '吴祖洋': 1, 'Xiaozhe': 1, '(徐明)': 1, 'HaoLin': 1, 'Xingyu': 1, 'Aresn': 1, 'MartinRGB': 1, '董铂然': 1, 'cdxy': 1, 'xiaojue': 1, '0xAA': 1, 'lijing00333': 1, '素十八': 1, '舒克·贝塔': 1, '杜瑶': 1, 'PegasusWang': 1, '三水清': 1, 'Wu': 1, 'kejun': 1, 'kiui': 1, 'xiaoyu': 1, 'YouXianMing': 1, 'Meituan': 1, 'Geek.Q': 1, '张恕征': 1, 'Yuan': 1, 'Manju': 1, 'Frank': 1, 'Ruohang': 1, 'Looly': 1, 'Wu)': 1, '蓝色的秋风': 1, 'Diu': 1, '李文周': 1, 'VIFEX': 1, 'DiDi': 1, 'hackerxu': 1, 'Alex': 1, '一个有毅力的吃货': 1, 'ConardLi': 1, 'Li': 1, '欧阳大哥2013': 1, '寒小阳': 1, '张炎泼': 1, 'music-video-guide': 1, 'netxfly': 1, 'Du': 1, 'Gavin.Kwoe': 1, 'ZhaoKaiQiang': 1, 'ZHANG': 1, '吴多益': 1, 'ShowMeAI': 1, 'koalr': 1, '肖威（xiaowei）': 1, 'Neo,Chen': 1, 'whyour': 1, '孙福生': 1, 'Povey': 1, 'LPZ': 1, 'Tech': 1, 'Xia': 1, 'Sophia@UCAS': 1, 'DianQK': 1, 'pezy': 1, 'Fang': 1, 'Charlotte': 1, 'ansonzhang': 1, 'Chang': 1, '4J': 1, 'OpenSource': 1, 'Wutian': 1, 'Alien-阿烈叔': 1, 'Association': 1, 'msnh2012': 1, 'zhao': 1, '美团': 1, 'FrancisTao': 1, '门心叼龙': 1, 'Holegots': 1, 'youkaichao': 1, 'BIN': 1, '刘望舒': 1, '大嘴': 1, '猫头猫': 1, '字节流动': 1, '杨尚川': 1, 'Products': 1, 'lijiarui': 1, 'Zhou': 1, 'You': 1, 'wyzxxz': 1, '紫枫': 1, 'lxfater': 1, '维尼的小熊': 1, '刘超': 1, '双愚': 1, 'Ke': 1, '荣顶': 1, 'qianwp': 1, '刘炬光': 1, 'hardfist': 1, 'Rick': 1, 'swing': 1, 'Lu': 1, 'OS': 1, 'QFish': 1, 'suyan': 1, 'Zhigang': 1, 'vicflash': 1, 'MarshalChen': 1, '郭永峰': 1, 'liaoxuezhi': 1, '大帅老猿': 1, '新运维社区': 1, 'Xin': 1, 'Zhai': 1, '半桶水': 1, 'maxzhang': 1, 'DeveloperLx': 1, 'tianyu': 1, 'jimin': 1, 'Xianyi': 1, '王集鹄': 1, 'Vivian': 1, 'Guan': 1, '夜莺': 1, '施展': 1, '咕咚': 1, 'Juns': 1, 'mritd': 1, '前端小武': 1, '阿拉斯加大闸蟹': 1, 'Lan': 1, 'He': 1, 'idealclover': 1, 'Fallen_Breath': 1, 'Vega': 1, '碎碎酱': 1, 'Lin': 1, 'Smile': 1, 'PICO': 1, '盘古大叔': 1, 'Tang': 1, 'Deng': 1, '王浩然': 1, 'SkyWorkAIGC': 1, 'neoReMinD': 1, 'TaichiCourse': 1, '(谭旭)': 1, 'group': 1, '独立开发者_猫哥': 1, 'Young': 1, 'ZHOU': 1, 'ZeluLi': 1, '新亮': 1, 'Tao': 1, 'DreamSourceLab': 1, 'ZhangJun': 1, 'bigeagle': 1, 'Sunny': 1, '7heaven': 1, '陈辉': 1, 'Lime': 1, 'ulricqin': 1, 'xiaxiaoao': 1, 'Liang': 1, 'AdamShan': 1, 'Shen': 1, '大林': 1, 'University': 1, '段清华DEAN': 1, '差沙': 1, 'RainX': 1, 'limodou': 1, 'cundong': 1, 'Qu': 1, 'W.': 1, 'Lab': 1, 'Youdao': 1, 'Mingfei': 1, 'yanqiangmiffy': 1, 'yuliang.liang': 1, 'kalasoo': 1, 'Lsong': 1, '饶琛琳': 1, 'Eziz': 1, 'ScienJus': 1, 'Yibin': 1, 'utom': 1, 'Pana': 1, 'oeasy': 1, 'imfht': 1, 'Bo': 1, 'Nathen': 1, 'w.vela': 1, 'walle-web.io': 1, '李理': 1, 'zhufengnodejs': 1, 'yoko': 1, '午夜': 1, '小鄧子': 1, 'nice0e3': 1, 'HackerVirus': 1, '郭耀华': 1, 'guozhong': 1, '江三疯': 1, 'fanbingxin': 1, '(赵健)': 1, 'wszqkzqk': 1, 'GAStudio': 1, 'Shang': 1, 'Lee': 1, '香山': 1, '猫叔': 1, 'pennyliang': 1, 'xueshi': 1, 'ydsf16': 1, 'Erik': 1, '360': 1, 'lianm': 1, '乐少': 1, 'WHOAMI': 1, 'ke': 1, 'PJHubs': 1, 'Atum': 1, 'xlzd': 1, 'Researcher.YuanYuhui': 1, 'qcrao': 1, 'Hu': 1, 'Wei': 1, 'Ge': 1, 'Joe': 1, 'Yip': 1, 'leiurayer': 1, 'BaCde': 1, '朱一': 1, '负雪明烛': 1, 'tcc0lin': 1, 'Alex.CR': 1}\n"
          ]
        }
      ]
    },
    {
      "cell_type": "code",
      "source": [
        "# prompt: Who created the most repositories on weekends (UTC)? List the top 5 users' login in order, comma-separated pandas\n",
        "\n",
        "import pandas as pd\n",
        "\n",
        "# Assuming your repositories dataframe is named repositories_df\n",
        "# and it has columns 'created_at' and 'owner_login'\n",
        "\n",
        "# Convert 'created_at' to datetime objects\n",
        "repositories_df['created_at'] = pd.to_datetime(repositories_df['created_at'])\n",
        "\n",
        "# Filter for repositories created on weekends (UTC)\n",
        "repositories_df['day_of_week'] = repositories_df['created_at'].dt.dayofweek\n",
        "repositories_df_weekend = repositories_df[repositories_df['day_of_week'].isin([5, 6])]  # 5: Saturday, 6: Sunday\n",
        "\n",
        "# Count repository creations per user on weekends\n",
        "user_repo_counts = repositories_df_weekend.groupby('login')['login'].count()\n",
        "\n",
        "# Sort by repository count in descending order and get top 5\n",
        "top_5_users = user_repo_counts.sort_values(ascending=False).head(5).index.tolist()\n",
        "\n",
        "# Print the top 5 users' logins separated by commas\n",
        "print(','.join(top_5_users))"
      ],
      "metadata": {
        "colab": {
          "base_uri": "https://localhost:8080/"
        },
        "id": "txX5wlgxKI_v",
        "outputId": "6baf2e5e-86ec-48da-9cad-8402d4f5d3eb"
      },
      "execution_count": null,
      "outputs": [
        {
          "output_type": "stream",
          "name": "stdout",
          "text": [
            "LinuxSuRen,hailiang-wang,xiaoweiruby,i5ting,zhufengnodejs\n"
          ]
        }
      ]
    },
    {
      "cell_type": "code",
      "source": [
        "# prompt: Some developers write long bios. Does that help them get more followers? What's the correlation of the length of their bio (in Unicode characters) with followers? (Ignore people without bios)\n",
        "# Regression slope of followers on bio word count (to 3 decimal places, e.g. 12.345 or -12.345) only in pandas\n",
        "\n",
        "# Assuming users_df has columns 'bio' and 'followers_count'\n",
        "users_df['bio_length'] = users_df['bio'].fillna('').str.len()\n",
        "\n",
        "# Calculate the correlation\n",
        "correlation = users_df['followers'].corr(users_df['bio_length'])"
      ],
      "metadata": {
        "id": "xIihsOP4LRiA"
      },
      "execution_count": null,
      "outputs": []
    },
    {
      "cell_type": "code",
      "source": [
        "# prompt: What's the correlation of the length of their bio (in Unicode characters) with followers? (Ignore people without bios)\n",
        "\n",
        "# Assuming users_df has columns 'bio' and 'followers_count'\n",
        "users_df['bio_length'] = users_df['bio'].str.len()\n",
        "\n",
        "# Filter out users without bios\n",
        "users_with_bios = users_df[users_df['bio_length'] > 0]\n",
        "\n",
        "# Calculate the correlation between bio length and followers for users with bios\n",
        "correlation = users_with_bios['followers'].corr(users_with_bios['bio_length'])\n",
        "\n",
        "correlation"
      ],
      "metadata": {
        "colab": {
          "base_uri": "https://localhost:8080/"
        },
        "id": "g5NAcEKCPniK",
        "outputId": "4712cedd-c500-42e5-f1cc-ca4bfbb941c9"
      },
      "execution_count": null,
      "outputs": [
        {
          "output_type": "execute_result",
          "data": {
            "text/plain": [
              "-0.0007075159158486239"
            ]
          },
          "metadata": {},
          "execution_count": 60
        }
      ]
    },
    {
      "cell_type": "code",
      "source": [
        "csv_file_path1 = '/content/drive/MyDrive/usersff.csv'  # Specify the path in your Google Drive\n",
        "users = pd.read_csv(csv_file_path1)\n",
        "\n",
        "\n"
      ],
      "metadata": {
        "id": "wzJIPFqaPn3-",
        "colab": {
          "base_uri": "https://localhost:8080/",
          "height": 216
        },
        "outputId": "0144908a-7aaf-485c-a23e-702aa0937305"
      },
      "execution_count": null,
      "outputs": [
        {
          "output_type": "error",
          "ename": "NameError",
          "evalue": "name 'pd' is not defined",
          "traceback": [
            "\u001b[0;31m---------------------------------------------------------------------------\u001b[0m",
            "\u001b[0;31mNameError\u001b[0m                                 Traceback (most recent call last)",
            "\u001b[0;32m<ipython-input-1-94ef1790770b>\u001b[0m in \u001b[0;36m<cell line: 2>\u001b[0;34m()\u001b[0m\n\u001b[1;32m      1\u001b[0m \u001b[0mcsv_file_path1\u001b[0m \u001b[0;34m=\u001b[0m \u001b[0;34m'/content/drive/MyDrive/usersff.csv'\u001b[0m  \u001b[0;31m# Specify the path in your Google Drive\u001b[0m\u001b[0;34m\u001b[0m\u001b[0;34m\u001b[0m\u001b[0m\n\u001b[0;32m----> 2\u001b[0;31m \u001b[0musers\u001b[0m \u001b[0;34m=\u001b[0m \u001b[0mpd\u001b[0m\u001b[0;34m.\u001b[0m\u001b[0mread_csv\u001b[0m\u001b[0;34m(\u001b[0m\u001b[0mcsv_file_path1\u001b[0m\u001b[0;34m)\u001b[0m\u001b[0;34m\u001b[0m\u001b[0;34m\u001b[0m\u001b[0m\n\u001b[0m\u001b[1;32m      3\u001b[0m \u001b[0;34m\u001b[0m\u001b[0m\n\u001b[1;32m      4\u001b[0m \u001b[0;34m\u001b[0m\u001b[0m\n",
            "\u001b[0;31mNameError\u001b[0m: name 'pd' is not defined"
          ]
        }
      ]
    },
    {
      "cell_type": "code",
      "source": [
        "new_users = users[users['name'].notna()].copy()\n",
        "new_users['surname'] = new_users['name'].str.split().str[-1].str.strip()\n",
        "surname_counts = new_users['surname'].value_counts()\n",
        "max_count = surname_counts.max()\n",
        "common_surnames = surname_counts[surname_counts == max_count].index.tolist()\n",
        "common_surnames.sort()\n",
        "print(','.join(common_surnames))"
      ],
      "metadata": {
        "colab": {
          "base_uri": "https://localhost:8080/"
        },
        "id": "BR41TYorUWRQ",
        "outputId": "28b2f4bd-d024-4c83-f2ca-c0f520baadf7"
      },
      "execution_count": null,
      "outputs": [
        {
          "output_type": "stream",
          "name": "stdout",
          "text": [
            "Wang\n"
          ]
        }
      ]
    },
    {
      "cell_type": "code",
      "source": [
        "import requests\n",
        "import csv\n",
        "\n",
        "GITHUB_TOKEN = \"XXXXXXX\"\n",
        "HEADERS = {\"Authorization\": f\"token {GITHUB_TOKEN}\"}\n",
        "\n",
        "def get_users_in_basel():\n",
        "    users = []\n",
        "    query = \"location:Beijing+followers:>500\"\n",
        "    page = 1\n",
        "    per_page = 100\n",
        "    total_users = 0\n",
        "\n",
        "    while True:\n",
        "        url = f\"https://api.github.com/search/users?q={query}&per_page={per_page}&page={page}\"\n",
        "        response = requests.get(url, headers=HEADERS)\n",
        "        print(f\"Fetching page {page}...\")\n",
        "\n",
        "        if response.status_code != 200:\n",
        "            print(\"Error fetching data:\", response.json())\n",
        "            break\n",
        "\n",
        "        data = response.json()\n",
        "        users.extend(data['items'])\n",
        "        total_users += len(data['items'])\n",
        "\n",
        "        if len(data['items']) < per_page:\n",
        "            break\n",
        "\n",
        "        page += 1\n",
        "\n",
        "    detailed_users = []\n",
        "    for user in users:\n",
        "        user_info = get_user_details(user['login'])\n",
        "        detailed_users.append(user_info)\n",
        "\n",
        "    return detailed_users\n",
        "\n",
        "def get_user_details(username):\n",
        "    user_url = f\"https://api.github.com/users/{username}\"\n",
        "    user_data = requests.get(user_url, headers=HEADERS).json()\n",
        "\n",
        "    return {\n",
        "        'login': user_data['login'],\n",
        "        'name': user_data['name'],\n",
        "        'company': clean_company_name(user_data['company']),\n",
        "        'location': user_data['location'],\n",
        "        'email': user_data['email'],\n",
        "        'hireable': user_data['hireable'],\n",
        "        'bio': user_data['bio'],\n",
        "        'public_repos': user_data['public_repos'],\n",
        "        'followers': user_data['followers'],\n",
        "        'following': user_data['following'],\n",
        "        'created_at': user_data['created_at'],\n",
        "    }\n",
        "\n",
        "def clean_company_name(company):\n",
        "    if company:\n",
        "        company = company.strip().upper()\n",
        "        if company.startswith('@'):\n",
        "            company = company[1:]\n",
        "    return company\n",
        "\n",
        "def get_user_repos(username):\n",
        "    repos_url = f\"https://api.github.com/users/{username}/repos?per_page=500\"\n",
        "    response = requests.get(repos_url, headers=HEADERS)\n",
        "    repos_data = response.json()\n",
        "\n",
        "    repos = []\n",
        "    for repo in repos_data:\n",
        "        repos.append({\n",
        "            'login': username,\n",
        "            'full_name': repo['full_name'],\n",
        "            'created_at': repo['created_at'],\n",
        "            'stargazers_count': repo['stargazers_count'],\n",
        "            'watchers_count': repo['watchers_count'],\n",
        "            'language': repo['language'],\n",
        "            'has_projects': repo['has_projects'],\n",
        "            'has_wiki': repo['has_wiki'],\n",
        "            'license_name': repo['license']['key'] if repo['license'] else None,\n",
        "        })\n",
        "\n",
        "    return repos\n",
        "\n",
        "def save_users_to_csv(users):\n",
        "    with open('users.csv', mode='w', newline='') as file:\n",
        "        writer = csv.DictWriter(file, fieldnames=['login', 'name', 'company', 'location', 'email', 'hireable', 'bio', 'public_repos', 'followers', 'following', 'created_at'])\n",
        "        writer.writeheader()\n",
        "        writer.writerows(users)\n",
        "\n",
        "def save_repos_to_csv(repos):\n",
        "    with open('repositories.csv', mode='w', newline='') as file:\n",
        "        writer = csv.DictWriter(file, fieldnames=['login', 'full_name', 'created_at', 'stargazers_count', 'watchers_count', 'language', 'has_projects', 'has_wiki', 'license_name'])\n",
        "        writer.writeheader()\n",
        "        writer.writerows(repos)\n",
        "\n",
        "if __name__ == \"__main__\":\n",
        "    users = get_users_in_basel()\n",
        "    save_users_to_csv(users)\n",
        "\n",
        "    all_repos = []\n",
        "    for user in users:\n",
        "        repos = get_user_repos(user['login'])\n",
        "        all_repos.extend(repos)\n",
        "\n",
        "    save_repos_to_csv(all_repos)\n",
        "    print(\"Done\")\n"
      ],
      "metadata": {
        "colab": {
          "base_uri": "https://localhost:8080/"
        },
        "id": "UYfeJQZl0ihL",
        "outputId": "40f1c1a9-32c8-4b8e-e7a1-a25c5d6ea4d3"
      },
      "execution_count": null,
      "outputs": [
        {
          "output_type": "stream",
          "name": "stdout",
          "text": [
            "Fetching page 1...\n",
            "Fetching page 2...\n",
            "Fetching page 3...\n",
            "Fetching page 4...\n",
            "Done\n"
          ]
        }
      ]
    },
    {
      "cell_type": "code",
      "source": [
        "import pandas as pd\n",
        "users = pd.read_csv('users.csv')\n",
        "users['hireable'] = users['hireable'].fillna(False).astype(bool)\n",
        "users['created_at'] = pd.to_datetime(users['created_at'])\n",
        "top_earliest = users.sort_values(by='created_at').head()\n",
        "print(','.join(top_earliest['login'].tolist()))"
      ],
      "metadata": {
        "colab": {
          "base_uri": "https://localhost:8080/"
        },
        "id": "lzPugH0H4kfy",
        "outputId": "3dff74d8-3266-45d7-c8a5-96f990e235b6"
      },
      "execution_count": null,
      "outputs": [
        {
          "output_type": "stream",
          "name": "stdout",
          "text": [
            "robin,nwind,reeze,kejun,ZhangHanDong\n"
          ]
        },
        {
          "output_type": "stream",
          "name": "stderr",
          "text": [
            "<ipython-input-5-ea072e8b3af9>:3: FutureWarning: Downcasting object dtype arrays on .fillna, .ffill, .bfill is deprecated and will change in a future version. Call result.infer_objects(copy=False) instead. To opt-in to the future behavior, set `pd.set_option('future.no_silent_downcasting', True)`\n",
            "  users['hireable'] = users['hireable'].fillna(False).astype(bool)\n"
          ]
        }
      ]
    },
    {
      "cell_type": "code",
      "source": [
        "repos = pd.read_csv('repositories.csv')\n",
        "repos.head()\n",
        "repos['license_name'].value_counts().head(3)\n"
      ],
      "metadata": {
        "colab": {
          "base_uri": "https://localhost:8080/",
          "height": 210
        },
        "id": "Lw75p6h15HZN",
        "outputId": "6a5beb79-9b78-4cf8-c36b-73329a427170"
      },
      "execution_count": null,
      "outputs": [
        {
          "output_type": "execute_result",
          "data": {
            "text/plain": [
              "license_name\n",
              "mit           4783\n",
              "apache-2.0    2582\n",
              "other         1317\n",
              "Name: count, dtype: int64"
            ],
            "text/html": [
              "<div>\n",
              "<style scoped>\n",
              "    .dataframe tbody tr th:only-of-type {\n",
              "        vertical-align: middle;\n",
              "    }\n",
              "\n",
              "    .dataframe tbody tr th {\n",
              "        vertical-align: top;\n",
              "    }\n",
              "\n",
              "    .dataframe thead th {\n",
              "        text-align: right;\n",
              "    }\n",
              "</style>\n",
              "<table border=\"1\" class=\"dataframe\">\n",
              "  <thead>\n",
              "    <tr style=\"text-align: right;\">\n",
              "      <th></th>\n",
              "      <th>count</th>\n",
              "    </tr>\n",
              "    <tr>\n",
              "      <th>license_name</th>\n",
              "      <th></th>\n",
              "    </tr>\n",
              "  </thead>\n",
              "  <tbody>\n",
              "    <tr>\n",
              "      <th>mit</th>\n",
              "      <td>4783</td>\n",
              "    </tr>\n",
              "    <tr>\n",
              "      <th>apache-2.0</th>\n",
              "      <td>2582</td>\n",
              "    </tr>\n",
              "    <tr>\n",
              "      <th>other</th>\n",
              "      <td>1317</td>\n",
              "    </tr>\n",
              "  </tbody>\n",
              "</table>\n",
              "</div><br><label><b>dtype:</b> int64</label>"
            ]
          },
          "metadata": {},
          "execution_count": 6
        }
      ]
    },
    {
      "cell_type": "code",
      "source": [
        "users['leader_strength'] = users['followers'] / (1 + users['following'])\n",
        "top5_lead = users.sort_values(by='leader_strength', ascending=False).head()\n",
        "print(','.join(top5_lead['login'].tolist()))"
      ],
      "metadata": {
        "colab": {
          "base_uri": "https://localhost:8080/"
        },
        "id": "CobH9hV47HzO",
        "outputId": "bd6b1384-552e-48d4-a2b1-aa222105feef"
      },
      "execution_count": null,
      "outputs": [
        {
          "output_type": "stream",
          "name": "stdout",
          "text": [
            "michaelliao,ityouknow,liuhuanyong,thunlp,shenghy\n"
          ]
        }
      ]
    },
    {
      "cell_type": "code",
      "source": [
        "correlation = users['followers'].corr(users['public_repos'])\n",
        "correlation"
      ],
      "metadata": {
        "colab": {
          "base_uri": "https://localhost:8080/"
        },
        "id": "ZEdarNSK7IG6",
        "outputId": "3e9c55f8-1c49-4f51-fc5f-ed36afa67617"
      },
      "execution_count": null,
      "outputs": [
        {
          "output_type": "execute_result",
          "data": {
            "text/plain": [
              "0.03280055790753122"
            ]
          },
          "metadata": {},
          "execution_count": 16
        }
      ]
    },
    {
      "cell_type": "code",
      "source": [
        "import csv\n",
        "import numpy as np\n",
        "followers = []\n",
        "public_repos = []\n",
        "with open('users.csv', 'r', encoding='utf-8') as file:\n",
        "    reader = csv.DictReader(file)\n",
        "    for row in reader:\n",
        "        followers_count = int(row['followers'])\n",
        "        public_repos_count = int(row['public_repos'])\n",
        "        followers.append(followers_count)\n",
        "        public_repos.append(public_repos_count)\n",
        "if len(followers) > 1 and len(public_repos) > 1:\n",
        "    slope, intercept = np.polyfit(public_repos, followers, 1)\n",
        "\n",
        "    print(f\"{slope:.3f}\")\n",
        "else:\n",
        "    print(\"Error\")"
      ],
      "metadata": {
        "colab": {
          "base_uri": "https://localhost:8080/"
        },
        "id": "NEHBtaWR8Phl",
        "outputId": "220b9baa-e76f-4b4b-a3e4-f0bac6e43c1a"
      },
      "execution_count": null,
      "outputs": [
        {
          "output_type": "stream",
          "name": "stdout",
          "text": [
            "0.654\n"
          ]
        }
      ]
    },
    {
      "cell_type": "code",
      "source": [
        "# 11Do people typically enable projects and wikis together? What is the correlation between a repo having projects enabled and having wiki enabled?\n",
        "# Correlation between projects and wiki enabled (to 3 decimal places, e.g. 0.123 or -0.123)\n",
        "correlation = repos['has_projects'].corr(repos['has_wiki'])\n",
        "correlation"
      ],
      "metadata": {
        "colab": {
          "base_uri": "https://localhost:8080/"
        },
        "id": "l_zcJX459lGL",
        "outputId": "7713150f-d5a1-4dfa-95f3-5e13ee633f2f"
      },
      "execution_count": null,
      "outputs": [
        {
          "output_type": "execute_result",
          "data": {
            "text/plain": [
              "0.28264485119624605"
            ]
          },
          "metadata": {},
          "execution_count": 17
        }
      ]
    },
    {
      "cell_type": "code",
      "source": [
        "hireable_avg_following = users[users['hireable'] == True]['following'].mean()\n",
        "non_hireable_avg_following = users[users['hireable'] == False]['following'].mean()\n",
        "difference = hireable_avg_following - non_hireable_avg_following\n",
        "difference"
      ],
      "metadata": {
        "colab": {
          "base_uri": "https://localhost:8080/"
        },
        "id": "70CERKlGAAoH",
        "outputId": "e70e07aa-5ed2-467c-fc0f-21c73351f592"
      },
      "execution_count": null,
      "outputs": [
        {
          "output_type": "execute_result",
          "data": {
            "text/plain": [
              "148.994456974655"
            ]
          },
          "metadata": {},
          "execution_count": 12
        }
      ]
    },
    {
      "cell_type": "code",
      "source": [
        "from sklearn.linear_model import LinearRegression\n",
        "users_with_bio = users[(users['bio'].notna()) & (users['bio'] != '')].copy()\n",
        "users_with_bio.loc[:, 'bio_len'] = users_with_bio['bio'].str.len()\n",
        "\n",
        "X = users_with_bio['bio_len'].values.reshape(-1,1)\n",
        "y = users_with_bio['followers']\n",
        "\n",
        "lr2 = LinearRegression()\n",
        "lr2.fit(X, y)\n",
        "lr2.coef_[0]"
      ],
      "metadata": {
        "colab": {
          "base_uri": "https://localhost:8080/"
        },
        "id": "hl3J1Sl6AA81",
        "outputId": "80dcf702-22bd-46e7-9457-484bc24f57a0"
      },
      "execution_count": null,
      "outputs": [
        {
          "output_type": "execute_result",
          "data": {
            "text/plain": [
              "-2.993423181217489"
            ]
          },
          "metadata": {},
          "execution_count": 13
        }
      ]
    },
    {
      "cell_type": "code",
      "source": [
        "# 14\n",
        "import csv\n",
        "from collections import Counter\n",
        "from datetime import datetime\n",
        "\n",
        "weekend_repo_counts = Counter()\n",
        "\n",
        "with open('repositories.csv', 'r', encoding='utf-8') as file:\n",
        "    reader = csv.DictReader(file)\n",
        "\n",
        "    for row in reader:\n",
        "        created_at = row.get('created_at', '')\n",
        "        if created_at:\n",
        "            created_date = datetime.fromisoformat(created_at[:-1])\n",
        "\n",
        "            if created_date.weekday() in [5, 6]:\n",
        "                user_login = row['login']\n",
        "                weekend_repo_counts[user_login] += 1\n",
        "\n",
        "top_users = weekend_repo_counts.most_common(5)\n",
        "\n",
        "top_logins = [user[0] for user in top_users]\n",
        "\n",
        "print(','.join(top_logins))"
      ],
      "metadata": {
        "colab": {
          "base_uri": "https://localhost:8080/"
        },
        "id": "zcs0LXuYAf1d",
        "outputId": "5fd99de6-0bfa-4d40-90b9-469cccc909dd"
      },
      "execution_count": null,
      "outputs": [
        {
          "output_type": "stream",
          "name": "stdout",
          "text": [
            "xtlsoft,LinuxSuRen,zhufengnodejs,ZhaoJ9014,lotem\n"
          ]
        }
      ]
    },
    {
      "cell_type": "code",
      "source": [
        "new_users = users[users['name'].notna()].copy()\n",
        "new_users['surname'] = new_users['name'].str.split().str[-1].str.strip()\n",
        "surname_counts = new_users['surname'].value_counts()\n",
        "max_count = surname_counts.max()\n",
        "common_surnames = surname_counts[surname_counts == max_count].index.tolist()\n",
        "common_surnames.sort()\n",
        "print(','.join(common_surnames))"
      ],
      "metadata": {
        "colab": {
          "base_uri": "https://localhost:8080/"
        },
        "id": "Oqek6YtBDGHI",
        "outputId": "d09de553-1f48-421a-877e-9e9b80306f13"
      },
      "execution_count": null,
      "outputs": [
        {
          "output_type": "stream",
          "name": "stdout",
          "text": [
            "Zhang\n"
          ]
        }
      ]
    },
    {
      "cell_type": "code",
      "source": [
        "fraction_hierable = users[users['hireable'] == True]['email'].notna().mean()\n",
        "fraction_non_hierable = users[users['hireable'] == False]['email'].notna().mean()\n",
        "diff = fraction_hierable - fraction_non_hierable\n",
        "diff"
      ],
      "metadata": {
        "colab": {
          "base_uri": "https://localhost:8080/"
        },
        "id": "Ki31PKRIDGrk",
        "outputId": "ab69345e-8a5f-4552-dd18-7727c0d696bc"
      },
      "execution_count": null,
      "outputs": [
        {
          "output_type": "execute_result",
          "data": {
            "text/plain": [
              "0.07293856798807297"
            ]
          },
          "metadata": {},
          "execution_count": 19
        }
      ]
    },
    {
      "cell_type": "code",
      "source": [
        "import csv\n",
        "from collections import Counter\n",
        "from datetime import datetime\n",
        "\n",
        "weekend_repo_counts = Counter()\n",
        "\n",
        "with open('repositories.csv', 'r', encoding='utf-8') as file:\n",
        "    reader = csv.DictReader(file)\n",
        "\n",
        "    for row in reader:\n",
        "        created_at = row.get('created_at', '')\n",
        "        if created_at:\n",
        "            created_date = datetime.fromisoformat(created_at[:-1])\n",
        "\n",
        "            if created_date.weekday() in [5, 6]:\n",
        "                user_login = row['login']\n",
        "                weekend_repo_counts[user_login] += 1\n",
        "\n",
        "top_users = weekend_repo_counts.most_common(5)\n",
        "\n",
        "top_logins = [user[0] for user in top_users]\n",
        "\n",
        "print(','.join(top_logins))"
      ],
      "metadata": {
        "colab": {
          "base_uri": "https://localhost:8080/"
        },
        "id": "P7qEsh0ID6Gl",
        "outputId": "9d56196b-c297-4ba6-b714-4dc8ec3e089d"
      },
      "execution_count": null,
      "outputs": [
        {
          "output_type": "stream",
          "name": "stdout",
          "text": [
            "xtlsoft,LinuxSuRen,zhufengnodejs,ZhaoJ9014,lotem\n"
          ]
        }
      ]
    },
    {
      "cell_type": "code",
      "source": [
        "from sklearn.linear_model import LinearRegression\n",
        "users_with_bio = users[(users['bio'].notna()) & (users['bio'] != '')].copy()\n",
        "users_with_bio.loc[:, 'bio_len'] = users_with_bio['bio'].str.len()\n",
        "\n",
        "X = users_with_bio['bio_len'].values.reshape(-1,1)\n",
        "y = users_with_bio['followers']\n",
        "\n",
        "lr2 = LinearRegression()\n",
        "lr2.fit(X, y)\n",
        "lr2.coef_[0]"
      ],
      "metadata": {
        "colab": {
          "base_uri": "https://localhost:8080/"
        },
        "id": "25OtUdtwFUcm",
        "outputId": "47749461-9523-450d-8bd1-9e63ff4e8d37"
      },
      "execution_count": null,
      "outputs": [
        {
          "output_type": "execute_result",
          "data": {
            "text/plain": [
              "-2.993423181217489"
            ]
          },
          "metadata": {},
          "execution_count": 21
        }
      ]
    },
    {
      "cell_type": "code",
      "source": [
        "users['hireable'] = users['hireable'].fillna(False).astype(bool)\n",
        "hireable_avg_following = users[users['hireable'] == True]['following'].mean()\n",
        "non_hireable_avg_following = users[users['hireable'] == False]['following'].mean()\n",
        "difference = hireable_avg_following - non_hireable_avg_following\n",
        "difference"
      ],
      "metadata": {
        "colab": {
          "base_uri": "https://localhost:8080/"
        },
        "id": "kP0q0NHE3pUx",
        "outputId": "206be827-0b23-448f-80da-e55dda69019c"
      },
      "execution_count": null,
      "outputs": [
        {
          "output_type": "execute_result",
          "data": {
            "text/plain": [
              "148.32769323945791"
            ]
          },
          "metadata": {},
          "execution_count": 7
        }
      ]
    },
    {
      "cell_type": "code",
      "source": [
        "# 11\n",
        "import pandas as pd\n",
        "import numpy as np\n",
        "\n",
        "def analyze_repo_features(csv_file):\n",
        "\n",
        "    df = pd.read_csv(csv_file)\n",
        "\n",
        "    if df['has_projects'].dtype == 'object':\n",
        "        df['has_projects'] = df['has_projects'].map({'true': True, 'false': False})\n",
        "    if df['has_wiki'].dtype == 'object':\n",
        "        df['has_wiki'] = df['has_wiki'].map({'true': True, 'false': False})\n",
        "\n",
        "    correlation = df['has_projects'].corr(df['has_wiki'])\n",
        "\n",
        "    stats = {\n",
        "        'total_repos': len(df),\n",
        "        'projects_enabled': df['has_projects'].sum(),\n",
        "        'wiki_enabled': df['has_wiki'].sum(),\n",
        "        'both_enabled': ((df['has_projects']) & (df['has_wiki'])).sum(),\n",
        "        'neither_enabled': ((~df['has_projects']) & (~df['has_wiki'])).sum()\n",
        "    }\n",
        "\n",
        "    return round(correlation, 3), stats\n",
        "\n",
        "correlation, stats = analyze_repo_features('repositories.csv')\n",
        "print(f\"Correlation coefficient: {correlation}\")\n",
        "print(\"\\nAdditional Statistics:\")\n",
        "for key, value in stats.items():\n",
        "    print(f\"{key}: {value}\")"
      ],
      "metadata": {
        "colab": {
          "base_uri": "https://localhost:8080/"
        },
        "id": "kAxXgnDs7arn",
        "outputId": "828fe6f2-5495-4414-86e8-a10b56fccc19"
      },
      "execution_count": null,
      "outputs": [
        {
          "output_type": "stream",
          "name": "stdout",
          "text": [
            "Correlation coefficient: 0.283\n",
            "\n",
            "Additional Statistics:\n",
            "total_repos: 20124\n",
            "projects_enabled: 19841\n",
            "wiki_enabled: 17796\n",
            "both_enabled: 17760\n",
            "neither_enabled: 247\n"
          ]
        }
      ]
    },
    {
      "cell_type": "code",
      "source": [
        "repos = pd.read_csv('repositories.csv')\n",
        "\n",
        "if repos['has_projects'].dtype == 'object':\n",
        "    repos['has_projects'] = repos['has_projects'].map({'true': True, 'false': False})\n",
        "if repos['has_wiki'].dtype == 'object':\n",
        "    repos['has_wiki'] = repos['has_wiki'].map({'true': True, 'false': False})\n",
        "\n",
        "correlation = repos['has_projects'].corr(repos['has_wiki'])\n",
        "\n",
        "print(round(correlation, 3))"
      ],
      "metadata": {
        "colab": {
          "base_uri": "https://localhost:8080/"
        },
        "id": "xfeXfPjr9eiz",
        "outputId": "3907e646-781d-4666-b3dc-ee5245a4c307"
      },
      "execution_count": null,
      "outputs": [
        {
          "output_type": "stream",
          "name": "stdout",
          "text": [
            "0.283\n"
          ]
        }
      ]
    },
    {
      "cell_type": "code",
      "source": [
        "users = pd.read_csv('users.csv')\n",
        "\n",
        "correlation = users['followers'].corr(users['public_repos'])\n",
        "correlation"
      ],
      "metadata": {
        "colab": {
          "base_uri": "https://localhost:8080/"
        },
        "id": "-EhpqQhJ9fGq",
        "outputId": "11962c1c-6e84-46c0-f87f-5110c04a2966"
      },
      "execution_count": null,
      "outputs": [
        {
          "output_type": "execute_result",
          "data": {
            "text/plain": [
              "0.03327330446473109"
            ]
          },
          "metadata": {},
          "execution_count": 7
        }
      ]
    },
    {
      "cell_type": "code",
      "source": [
        "fraction_hierable = users[users['hireable'] == True]['email'].notna().mean()\n",
        "fraction_non_hierable = users[users['hireable'] == False]['email'].notna().mean()\n",
        "diff = fraction_hierable - fraction_non_hierable\n"
      ],
      "metadata": {
        "colab": {
          "base_uri": "https://localhost:8080/"
        },
        "id": "Kk81wWHw99jn",
        "outputId": "0bf903de-2c48-4860-a206-c40e6b099b33"
      },
      "execution_count": null,
      "outputs": [
        {
          "output_type": "execute_result",
          "data": {
            "text/plain": [
              "nan"
            ]
          },
          "metadata": {},
          "execution_count": 10
        }
      ]
    },
    {
      "cell_type": "code",
      "source": [
        "diff"
      ],
      "metadata": {
        "colab": {
          "base_uri": "https://localhost:8080/"
        },
        "id": "85qzraYr-jPO",
        "outputId": "aeb7cbfe-c5c5-43ff-d4b7-209b8c1ff82c"
      },
      "execution_count": null,
      "outputs": [
        {
          "output_type": "execute_result",
          "data": {
            "text/plain": [
              "nan"
            ]
          },
          "metadata": {},
          "execution_count": 11
        }
      ]
    },
    {
      "cell_type": "code",
      "source": [
        "import pandas as pd\n",
        "import numpy as np\n",
        "import matplotlib.pyplot as plt\n"
      ],
      "metadata": {
        "id": "Owv9MQho-sBX"
      },
      "execution_count": null,
      "outputs": []
    },
    {
      "cell_type": "code",
      "source": [
        "import pandas as pd\n",
        "\n",
        "# Assuming 'users' is a list of dictionaries\n",
        "users_df=pd.read_csv('users.csv')\n",
        "users_df['hireable'] = users_df['hireable'].fillna(False).astype(bool)\n",
        "# Now you can use the DataFrame syntax to access columns\n",
        "repos=pd.read_csv('repositories.csv')"
      ],
      "metadata": {
        "colab": {
          "base_uri": "https://localhost:8080/"
        },
        "id": "5BSHlYAIPUaD",
        "outputId": "b923aafc-9816-41e9-a9a5-642a7aef9328"
      },
      "execution_count": null,
      "outputs": [
        {
          "output_type": "stream",
          "name": "stderr",
          "text": [
            "<ipython-input-8-6793329bd372>:5: FutureWarning: Downcasting object dtype arrays on .fillna, .ffill, .bfill is deprecated and will change in a future version. Call result.infer_objects(copy=False) instead. To opt-in to the future behavior, set `pd.set_option('future.no_silent_downcasting', True)`\n",
            "  users_df['hireable'] = users_df['hireable'].fillna(False).astype(bool)\n"
          ]
        }
      ]
    },
    {
      "cell_type": "code",
      "source": [
        "if repos['has_projects'].dtype == 'object':\n",
        "    repos['has_projects'] = repos['has_projects'].map({'true': True, 'false': False})\n",
        "if repos['has_wiki'].dtype == 'object':\n",
        "    repos['has_wiki'] = repos['has_wiki'].map({'true': True, 'false': False})\n",
        "\n",
        "correlation = repos['has_projects'].corr(repos['has_wiki'])\n",
        "\n",
        "print(round(correlation, 3))"
      ],
      "metadata": {
        "colab": {
          "base_uri": "https://localhost:8080/"
        },
        "id": "v8SjewdMPXL5",
        "outputId": "2dac159b-61a8-4233-d3c1-ab78c2e4a9b7"
      },
      "execution_count": null,
      "outputs": [
        {
          "output_type": "stream",
          "name": "stdout",
          "text": [
            "0.283\n"
          ]
        }
      ]
    },
    {
      "cell_type": "code",
      "source": [
        "from sklearn.linear_model import LinearRegression\n",
        "users_with_bio = users_df[(users_df['bio'].notna()) & (users_df['bio'] != '')].copy()\n",
        "users_with_bio.loc[:, 'bio_len'] = users_with_bio['bio'].str.len()\n",
        "\n",
        "X = users_with_bio['bio_len'].values.reshape(-1,1)\n",
        "y = users_with_bio['followers']\n",
        "\n",
        "lr2 = LinearRegression()\n",
        "lr2.fit(X, y)\n",
        "lr2.coef_[0]"
      ],
      "metadata": {
        "colab": {
          "base_uri": "https://localhost:8080/"
        },
        "id": "jGJZd4NfSPjZ",
        "outputId": "e63c3e17-cd49-401d-aef8-4b7bfbfb3d21"
      },
      "execution_count": null,
      "outputs": [
        {
          "output_type": "execute_result",
          "data": {
            "text/plain": [
              "-3.014425024664067"
            ]
          },
          "metadata": {},
          "execution_count": 12
        }
      ]
    },
    {
      "cell_type": "code",
      "source": [
        "users=pd.read_csv('users.csv')\n",
        "users['hireable'] = users['hireable'].fillna(False).astype(bool)\n",
        "\n",
        "fraction_hierable = users[users['hireable'] == True]['email'].notna().mean()\n",
        "fraction_non_hierable = users[users['hireable'] == False]['email'].notna().mean()\n",
        "diff = fraction_hierable - fraction_non_hierable\n",
        "diff"
      ],
      "metadata": {
        "colab": {
          "base_uri": "https://localhost:8080/"
        },
        "id": "bu9dFB89Sgmu",
        "outputId": "2a2f070e-9281-473b-ec1e-5f230e2238db"
      },
      "execution_count": null,
      "outputs": [
        {
          "output_type": "stream",
          "name": "stderr",
          "text": [
            "<ipython-input-20-536425016171>:2: FutureWarning: Downcasting object dtype arrays on .fillna, .ffill, .bfill is deprecated and will change in a future version. Call result.infer_objects(copy=False) instead. To opt-in to the future behavior, set `pd.set_option('future.no_silent_downcasting', True)`\n",
            "  users['hireable'] = users['hireable'].fillna(False).astype(bool)\n"
          ]
        },
        {
          "output_type": "execute_result",
          "data": {
            "text/plain": [
              "0.06556135967900678"
            ]
          },
          "metadata": {},
          "execution_count": 20
        }
      ]
    },
    {
      "cell_type": "code",
      "source": [
        "from sklearn.linear_model import LinearRegression\n",
        "users_with_bio = users[(users['bio'].notna()) & (users['bio'] != '')].copy()\n",
        "users_with_bio.loc[:, 'bio_len'] = users_with_bio['bio'].str.len()\n",
        "\n",
        "X = users_with_bio['bio_len'].values.reshape(-1,1)\n",
        "y = users_with_bio['followers']\n",
        "\n",
        "lr2 = LinearRegression()\n",
        "lr2.fit(X, y)\n",
        "lr2.coef_[0]"
      ],
      "metadata": {
        "colab": {
          "base_uri": "https://localhost:8080/"
        },
        "id": "7sPdw8kVUGhH",
        "outputId": "803c2e3b-1dcf-45cf-c5e7-4d701f46b7ba"
      },
      "execution_count": null,
      "outputs": [
        {
          "output_type": "execute_result",
          "data": {
            "text/plain": [
              "-3.014425024664067"
            ]
          },
          "metadata": {},
          "execution_count": 21
        }
      ]
    },
    {
      "cell_type": "code",
      "source": [
        "hireable_avg_following = users[users['hireable'] == True]['following'].mean()\n",
        "non_hireable_avg_following = users[users['hireable'] == False]['following'].mean()\n",
        "difference = hireable_avg_following - non_hireable_avg_following\n",
        "difference"
      ],
      "metadata": {
        "colab": {
          "base_uri": "https://localhost:8080/"
        },
        "id": "CcoC4zlRUm6L",
        "outputId": "ce58fd3d-1f1f-4488-ac0e-9da88bfa565b"
      },
      "execution_count": null,
      "outputs": [
        {
          "output_type": "execute_result",
          "data": {
            "text/plain": [
              "148.3199712317359"
            ]
          },
          "metadata": {},
          "execution_count": 22
        }
      ]
    },
    {
      "cell_type": "code",
      "source": [
        "df = pd.read_csv('users.csv')\n",
        "\n",
        "# Filter out rows without bios\n",
        "df = df[df['bio'].notna() & (df['bio'] != '')]\n",
        "\n",
        "# Calculate bio length in Unicode characters\n",
        "df['bio_length'] = df['bio'].str.len()\n",
        "\n",
        "# Prepare data for regression\n",
        "X = df['bio_length'].values.reshape(-1, 1)\n",
        "y = df['followers'].values\n",
        "\n",
        "# Perform linear regression\n",
        "model = LinearRegression()\n",
        "model.fit(X, y)\n",
        "\n",
        "# Get the slope rounded to 3 decimal places\n",
        "slope = round(model.coef_[0], 3)\n",
        "\n",
        "# Print debug information\n",
        "print(f\"Number of users with bios: {len(df)}\")\n",
        "print(f\"Bio length range: {df['bio_length'].min()} to {df['bio_length'].max()}\")\n",
        "print(f\"Followers range: {df['followers'].min()} to {df['followers'].max()}\")\n",
        "print(f\"R-squared: {model.score(X, y):.3f}\")\n",
        "print(slope)"
      ],
      "metadata": {
        "colab": {
          "base_uri": "https://localhost:8080/"
        },
        "id": "l0tSor5_UnUB",
        "outputId": "9a2df669-dba2-4743-8c0e-2eb7d3dacf8f"
      },
      "execution_count": null,
      "outputs": [
        {
          "output_type": "stream",
          "name": "stdout",
          "text": [
            "Number of users with bios: 274\n",
            "Bio length range: 2 to 160\n",
            "Followers range: 502 to 37240\n",
            "R-squared: 0.001\n",
            "-3.014\n"
          ]
        }
      ]
    },
    {
      "cell_type": "code",
      "source": [],
      "metadata": {
        "id": "dLzGikxEWm7b"
      },
      "execution_count": null,
      "outputs": []
    }
  ]
}